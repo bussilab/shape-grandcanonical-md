{
 "cells": [
  {
   "cell_type": "markdown",
   "metadata": {},
   "source": [
    "# Analysis of experiments\n",
    "In this notebook we present a simple routine to examine reactivities at varying concentration of SHAPE reagent.\n",
    "In particular we focus on the different behaviour between nucleotides in GNRA tetraloops and the other nucleotides."
   ]
  },
  {
   "cell_type": "code",
   "execution_count": 1,
   "metadata": {},
   "outputs": [],
   "source": [
    "import numpy as np\n",
    "import pandas as pd\n",
    "import matplotlib.pyplot as plt\n",
    "import re\n",
    "import RNA\n",
    "import subprocess as sp\n",
    "import regex\n",
    "import seaborn as sns"
   ]
  },
  {
   "cell_type": "markdown",
   "metadata": {},
   "source": [
    "##  Extraction and fitting of in-house experimental data.\n",
    "The in-house data we used for the manuscript are available in the Github repository (file \"SHAPE_data_cooperativity_series-2.xlsx\").\n",
    "\n",
    "We fit per-nucleotide reactivities as a function of reagent concentration, with the following power law:\n",
    "\n",
    "$$R = \\alpha\\cdot C^\\beta$$\n",
    "\n",
    "We first linearize the power law\n",
    "\n",
    "$$\\log\\frac{R}{C} = \\log\\alpha+(\\beta-1)\\log C$$\n",
    "\n",
    "and then retrieve fit parameters $\\alpha$ and $\\beta$."
   ]
  },
  {
   "cell_type": "code",
   "execution_count": 75,
   "metadata": {},
   "outputs": [
    {
     "name": "stdout",
     "output_type": "stream",
     "text": [
      "2N2O\n"
     ]
    },
    {
     "name": "stderr",
     "output_type": "stream",
     "text": [
      "--2023-04-29 12:53:03--  https://files.rcsb.org/download/2N2O.pdb\n",
      "Resolving files.rcsb.org (files.rcsb.org)... 128.6.158.49\n",
      "Connecting to files.rcsb.org (files.rcsb.org)|128.6.158.49|:443... connected.\n",
      "HTTP request sent, awaiting response... 200 OK\n",
      "Length: unspecified [application/octet-stream]\n",
      "Saving to: ‘2N2O.pdb’\n",
      "\n",
      "     0K .......... .......... .......... .......... ..........  193K\n",
      "    50K .......... .......... .......... .......... ..........  402K\n",
      "   100K .......... .......... .......... .......... .......... 93,0M\n",
      "   150K .......... .......... .......... .......... .......... 9,54M\n",
      "   200K .......... .......... .......... .......... ..........  416K\n",
      "   250K .......... .......... .......... .......... .......... 55,5M\n",
      "   300K .......... .......... .......... .......... .......... 40,9M\n",
      "   350K .......... .......... .......... .......... .......... 28,5M\n",
      "   400K .......... .......... .......... .......... ..........  407K\n",
      "   450K .......... .......... .......... .......... .......... 60,1M\n",
      "   500K .......... .......... .......... .......... ..........  111M\n",
      "   550K .......... .......... .......... .......... .......    93,9M=0,6s\n",
      "\n",
      "2023-04-29 12:53:04 (936 KB/s) - ‘2N2O.pdb’ saved [611550]\n",
      "\n",
      "/Users/nicola.calonaci/opt/anaconda3/envs/shapemd/lib/python3.9/site-packages/mdtraj/formats/pdb/pdbfile.py:200: UserWarning: Unlikely unit cell vectors detected in PDB file likely resulting from a dummy CRYST1 record. Discarding unit cell vectors.\n",
      "  warnings.warn('Unlikely unit cell vectors detected in PDB file likely '\n",
      "# Loading 2N2O.pdb \n",
      "--2023-04-29 12:53:05--  https://files.rcsb.org/download/2GIS.pdb\n",
      "Resolving files.rcsb.org (files.rcsb.org)... 128.6.158.49\n",
      "Connecting to files.rcsb.org (files.rcsb.org)|128.6.158.49|:443... "
     ]
    },
    {
     "name": "stdout",
     "output_type": "stream",
     "text": [
      "# your output will be written to files with prefix outfile.ANNOTATE\n",
      "GCAUGUUUUCUGUGAAAACGGUU\n",
      "....((((((...))))))....\n",
      "[]\n",
      "[]\n",
      "2GIS\n"
     ]
    },
    {
     "name": "stderr",
     "output_type": "stream",
     "text": [
      "connected.\n",
      "HTTP request sent, awaiting response... 200 OK\n",
      "Length: unspecified [application/octet-stream]\n",
      "Saving to: ‘2GIS.pdb’\n",
      "\n",
      "     0K .......... .......... .......... .......... ..........  192K\n",
      "    50K .......... .......... .......... .......... ..........  391K\n",
      "   100K .......... .......... .......... .......... .......... 98,8M\n",
      "   150K .......... .......... .......... .......... .......... 16,2M\n",
      "   200K .......... ..                                          97,8K=0,5s\n",
      "\n",
      "2023-04-29 12:53:06 (408 KB/s) - ‘2GIS.pdb’ saved [217647]\n",
      "\n",
      "# Loading 2GIS.pdb \n",
      "# Skipping unknown residue IRI201 \n",
      "# Skipping unknown residue IRI202 \n",
      "# Skipping unknown residue IRI203 \n",
      "# Skipping unknown residue IRI204 \n",
      "# Skipping unknown residue SAM301 \n",
      "--2023-04-29 12:53:06--  https://files.rcsb.org/download/2L1V.pdb\n",
      "Resolving files.rcsb.org (files.rcsb.org)... 128.6.158.49\n",
      "Connecting to files.rcsb.org (files.rcsb.org)|128.6.158.49|:443... "
     ]
    },
    {
     "name": "stdout",
     "output_type": "stream",
     "text": [
      "# your output will be written to files with prefix outfile.ANNOTATE\n",
      "GGCUUAUCAAGAGAGGUGGAGGGACUGGCCCGAUGAAACCCGGCAACCAGAAAUGGUGCCAAUUCCUGCAGCGGAAACGUUGAAAGAUGAGCCA\n",
      "((((.(((....(.(((...(((.[.[[)))......))))(((..(((....))).)))...(]].]((.((....)).))..)))).)))).\n",
      "['GAAA', 'GAAA']\n",
      "['....', '....']\n",
      "2L1V\n"
     ]
    },
    {
     "name": "stderr",
     "output_type": "stream",
     "text": [
      "connected.\n",
      "HTTP request sent, awaiting response... 200 OK\n",
      "Length: unspecified [application/octet-stream]\n",
      "Saving to: ‘2L1V.pdb’\n",
      "\n",
      "     0K .......... .......... .......... .......... ..........  202K\n",
      "    50K .......... .......... .......... .......... ..........  410K\n",
      "   100K .......... .......... .......... .......... .......... 95,9M\n",
      "   150K .......... .......... .......... .......... .......... 21,0M\n",
      "   200K .......... .......... .......... .......... ..........  418K\n",
      "   250K .......... .......... .......... .......... .......... 49,8M\n",
      "   300K .......... .......... .......... .......... .......... 76,5M\n",
      "   350K .......... .......... .......... .......... .......... 26,2M\n",
      "   400K .......... .......... .......... .......... ..........  423K\n",
      "   450K .......... .......... .......... .......... .......... 38,2M\n",
      "   500K .......... .......... .......... .......... .......... 60,4M\n",
      "   550K .......... .......... .......... .......... .......... 58,8M\n",
      "   600K .......... .......... .......... .......... .......... 54,6M\n",
      "   650K .......... .......... .......... .......... .......... 67,6M\n",
      "   700K .......... .......... .......... .......... .......... 64,1M\n",
      "   750K .......... .......... .......... .......... .......... 45,2M\n",
      "   800K .......... .......... .......... .......... ..........  421K\n",
      "   850K .......... .......... .......... .......... .......... 63,2M\n",
      "   900K .......... .......... .......... .......... .......... 83,8M\n",
      "   950K .......... .......... .......... .......... .......... 48,2M\n",
      "  1000K .......... .......... .......... .......... ..........  104M\n",
      "  1050K .......... .......... .......... .......... ..........  104M\n",
      "  1100K .......... .......... .......... .......... .......... 55,2M\n",
      "  1150K .......... .......... .......... .......... .......... 98,6M\n",
      "  1200K .......... .......... .......... .......... .......... 47,1M\n",
      "  1250K .......... .......... .......... .......... ..........  397K\n",
      "  1300K .......... .......... .......... .......... .......... 62,0M\n",
      "  1350K .......... .......... .......... .......... .......... 85,1M\n",
      "  1400K .......... .......... .......... .......... .......... 66,4M\n",
      "  1450K .......... .......... .......... .......... .......... 71,4M\n",
      "  1500K .......... .......... .......... .......... .......... 72,0M\n",
      "  1550K .......... .......... .......... .......... .......... 70,5M\n",
      "  1600K .......... .......... .......... .......... .......... 64,8M\n",
      "  1650K .......... .......... .......... .......... ..........  430K\n",
      "  1700K .......... .......... .......... .......... .......... 51,0M\n",
      "  1750K .......... .......... .......... .......... .......... 52,7M\n",
      "  1800K .......... .......... .......... .......... .......... 45,3M\n",
      "  1850K .......... .......... .........                        73,9M=1,0s\n",
      "\n",
      "2023-04-29 12:53:08 (1,84 MB/s) - ‘2L1V.pdb’ saved [1924560]\n",
      "\n",
      "/Users/nicola.calonaci/opt/anaconda3/envs/shapemd/lib/python3.9/site-packages/mdtraj/formats/pdb/pdbfile.py:200: UserWarning: Unlikely unit cell vectors detected in PDB file likely resulting from a dummy CRYST1 record. Discarding unit cell vectors.\n",
      "  warnings.warn('Unlikely unit cell vectors detected in PDB file likely '\n",
      "# Loading 2L1V.pdb \n",
      "# Skipping unknown residue PRF37 \n",
      "--2023-04-29 12:53:09--  https://files.rcsb.org/download/1SCL.pdb\n",
      "Resolving files.rcsb.org (files.rcsb.org)... 128.6.158.49\n",
      "Connecting to files.rcsb.org (files.rcsb.org)|128.6.158.49|:443... "
     ]
    },
    {
     "name": "stdout",
     "output_type": "stream",
     "text": [
      "# your output will be written to files with prefix outfile.ANNOTATE\n",
      "GGAGAGGUUCUAGUUAUACCCUCUAUAAAAAACUAA\n",
      "..(((((...[[[......)))))........]]].\n",
      "[]\n",
      "[]\n",
      "1SCL\n"
     ]
    },
    {
     "name": "stderr",
     "output_type": "stream",
     "text": [
      "connected.\n",
      "HTTP request sent, awaiting response... 200 OK\n",
      "Length: unspecified [application/octet-stream]\n",
      "Saving to: ‘1SCL.pdb’\n",
      "\n",
      "     0K .......... .......... .......... .......... ..........  199K\n",
      "    50K .......... .......... .......... .......... ..........  406K\n",
      "   100K .......... .......... .......... .......... .......... 48,1M\n",
      "   150K .......... .......... .......... .......... .......... 15,0M\n",
      "   200K .......... .......... .......... .......... ..........  413K\n",
      "   250K .......... .......... .......... .......... .......... 85,1M\n",
      "   300K .......... .......... .......... .......... .......... 79,3M\n",
      "   350K .......... .......... .......... .......... .......... 24,1M\n",
      "   400K .......... .......... .......... .......... ..........  412K\n",
      "   450K ........                                               57,2M=0,6s\n",
      "\n",
      "2023-04-29 12:53:10 (734 KB/s) - ‘1SCL.pdb’ saved [469800]\n",
      "\n",
      "/Users/nicola.calonaci/opt/anaconda3/envs/shapemd/lib/python3.9/site-packages/mdtraj/formats/pdb/pdbfile.py:200: UserWarning: Unlikely unit cell vectors detected in PDB file likely resulting from a dummy CRYST1 record. Discarding unit cell vectors.\n",
      "  warnings.warn('Unlikely unit cell vectors detected in PDB file likely '\n",
      "# Loading 1SCL.pdb \n",
      "--2023-04-29 12:53:11--  https://files.rcsb.org/download/1KXK.pdb\n",
      "Resolving files.rcsb.org (files.rcsb.org)... 128.6.158.49\n",
      "Connecting to files.rcsb.org (files.rcsb.org)|128.6.158.49|:443... "
     ]
    },
    {
     "name": "stdout",
     "output_type": "stream",
     "text": [
      "# your output will be written to files with prefix outfile.ANNOTATE\n",
      "GGGUGCUCAGUACGAGAGGAACCGCACCC\n",
      "((((((......(....).....))))))\n",
      "['GAGA']\n",
      "['....']\n",
      "1KXK\n"
     ]
    },
    {
     "name": "stderr",
     "output_type": "stream",
     "text": [
      "connected.\n",
      "HTTP request sent, awaiting response... 200 OK\n",
      "Length: unspecified [application/octet-stream]\n",
      "Saving to: ‘1KXK.pdb’\n",
      "\n",
      "     0K .......... .......... .......... .......... ..........  209K\n",
      "    50K .......... .......... .......... .......... ..........  423K\n",
      "   100K .......... .......... .......... .......... ....       18,3M=0,4s\n",
      "\n",
      "2023-04-29 12:53:12 (403 KB/s) - ‘1KXK.pdb’ saved [148392]\n",
      "\n",
      "# Loading 1KXK.pdb \n",
      "--2023-04-29 12:53:13--  https://files.rcsb.org/download/1CQ5.pdb\n",
      "Resolving files.rcsb.org (files.rcsb.org)... 128.6.158.49\n",
      "Connecting to files.rcsb.org (files.rcsb.org)|128.6.158.49|:443... "
     ]
    },
    {
     "name": "stdout",
     "output_type": "stream",
     "text": [
      "# your output will be written to files with prefix outfile.ANNOTATE\n",
      "GUCUACCUAUCGGGCUAAGGAGCCGUAUGCGAUGAAAGUCGCACGUACGGUUCUAUGCCCGGGGGAAAAC\n",
      ".....((...(((((....((..(((..((((......))))....)))..))...))))).))......\n",
      "['GAAA']\n",
      "['....']\n",
      "1CQ5\n"
     ]
    },
    {
     "name": "stderr",
     "output_type": "stream",
     "text": [
      "connected.\n",
      "HTTP request sent, awaiting response... 200 OK\n",
      "Length: unspecified [application/octet-stream]\n",
      "Saving to: ‘1CQ5.pdb’\n",
      "\n",
      "     0K .......... .......... .......... .......... ..........  197K\n",
      "    50K .......... .......... .......... .......... ..........  405K\n",
      "   100K .......... .......... .......... ..                    51,6M=0,4s\n",
      "\n",
      "2023-04-29 12:53:14 (351 KB/s) - ‘1CQ5.pdb’ saved [135675]\n",
      "\n",
      "/Users/nicola.calonaci/opt/anaconda3/envs/shapemd/lib/python3.9/site-packages/mdtraj/formats/pdb/pdbfile.py:200: UserWarning: Unlikely unit cell vectors detected in PDB file likely resulting from a dummy CRYST1 record. Discarding unit cell vectors.\n",
      "  warnings.warn('Unlikely unit cell vectors detected in PDB file likely '\n",
      "# Loading 1CQ5.pdb \n",
      "--2023-04-29 12:53:14--  https://files.rcsb.org/download/2GV4.pdb\n",
      "Resolving files.rcsb.org (files.rcsb.org)... 128.6.158.49\n",
      "Connecting to files.rcsb.org (files.rcsb.org)|128.6.158.49|:443... "
     ]
    },
    {
     "name": "stdout",
     "output_type": "stream",
     "text": [
      "# your output will be written to files with prefix outfile.ANNOTATE\n",
      "GGCGUUUACCAGGUCAGGUCCGGAAGGAAGCAGCCAAGGCGCC\n",
      "((((.......((.....(((....))).....))....))))\n",
      "['GGAA']\n",
      "['....']\n",
      "2GV4\n"
     ]
    },
    {
     "name": "stderr",
     "output_type": "stream",
     "text": [
      "connected.\n",
      "HTTP request sent, awaiting response... 200 OK\n",
      "Length: unspecified [application/octet-stream]\n",
      "Saving to: ‘2GV4.pdb’\n",
      "\n",
      "     0K .......... .......... .......... .......... ..........  198K\n",
      "    50K .......... .......... .......... .......... ..........  408K\n",
      "   100K .......... .......... .......... .......... .......... 72,6M\n",
      "   150K .......... .......... .......... .......... .......... 14,0M\n",
      "   200K .......... .......... .......... .......... ..........  414K\n",
      "   250K .......... .......... .......... .......... .......... 33,5M\n",
      "   300K .......... .......... .......... .......... .......... 53,7M\n",
      "   350K .......... .......... .......... .......... .......... 13,1M\n",
      "   400K .......... .......... .......... .......... ..........  428K\n",
      "   450K .......... .......... .......... .......... .......... 70,7M\n",
      "   500K .......... .......... .......... .......... .......... 48,5M\n",
      "   550K .......... .......... .......... .......... .......... 58,8M\n",
      "   600K .......... .......... .......... .......... .......... 38,0M\n",
      "   650K .......... .......... .......... .......... .......... 79,7M\n",
      "   700K .......... .......... .......... .......... .          17,6M=0,6s\n",
      "\n",
      "2023-04-29 12:53:15 (1,15 MB/s) - ‘2GV4.pdb’ saved [759213]\n",
      "\n"
     ]
    },
    {
     "name": "stdout",
     "output_type": "stream",
     "text": [
      "# your output will be written to files with prefix outfile.ANNOTATE\n",
      "GGACCUCUCGAAAGAGUGGUCC\n",
      "..(.(..(......)..).)..\n",
      "['GAAA']\n",
      "['....']\n"
     ]
    },
    {
     "name": "stderr",
     "output_type": "stream",
     "text": [
      "/Users/nicola.calonaci/opt/anaconda3/envs/shapemd/lib/python3.9/site-packages/mdtraj/formats/pdb/pdbfile.py:200: UserWarning: Unlikely unit cell vectors detected in PDB file likely resulting from a dummy CRYST1 record. Discarding unit cell vectors.\n",
      "  warnings.warn('Unlikely unit cell vectors detected in PDB file likely '\n",
      "# Loading 2GV4.pdb \n"
     ]
    }
   ],
   "source": [
    "def intersect(x,y):\n",
    "    out = []\n",
    "    for i in range(len(x)):\n",
    "        for j in range(len(y)):\n",
    "            if x[i]==y[j]:\n",
    "                out.append(x[i])\n",
    "    return out\n",
    "\n",
    "def fun(x,a,b):\n",
    "    return a*x+b\n",
    "\n",
    "import regex\n",
    "from scipy.optimize import curve_fit\n",
    "from scipy.stats import dirichlet\n",
    "\n",
    "slope = []\n",
    "slope_err = []\n",
    "\n",
    "inter = []\n",
    "inter_err = []\n",
    "\n",
    "slope1 = []\n",
    "slope1_err = []\n",
    "\n",
    "inter1 = []\n",
    "inter1_err = []\n",
    "\n",
    "all_loop = []\n",
    "all_stem = []\n",
    "\n",
    "slope_g1 = []\n",
    "inter_g1 = []\n",
    "\n",
    "for name in ['2N2O', '2GIS', '2L1V', '1SCL', '1KXK', '1CQ5', '2GV4']:\n",
    "    ## Read data-sheet and build sequence\n",
    "    df = pd.read_excel('../experiments/SHAPE_data_cooperativity_series-2.xlsx', sheet_name=name, engine='openpyxl', skiprows=1)\n",
    "    print(name)\n",
    "    i0 = 0\n",
    "    for s in df.seqRNA.values:\n",
    "        if s not in ['A','U','C','G']:\n",
    "            i0 += 1\n",
    "        else:\n",
    "            break\n",
    "    ntlist = ''.join([s for s in df.seqRNA.values if s in ['A','U','C','G']])\n",
    "    seq_exp = ''.join(ntlist)\n",
    "    \n",
    "    ## Download pdb and build secondary structure with baRNAba\n",
    "    sp.call([\"rm\",\"-rf\",\"{}.pdb\".format(name)])\n",
    "    sp.call([\"wget\",\"https://files.rcsb.org/download/{}.pdb\".format(name)])\n",
    "    sp.call([\"barnaba\",\"ANNOTATE\",\"--pdb\",\"{}.pdb\".format(name),\"--dotbracket\"])\n",
    "    with open(\"outfile.ANNOTATE.dotbracket.out\", \"r\") as f:\n",
    "        data = f.readlines()\n",
    "        for l in data:\n",
    "            ll=l.split()\n",
    "            if ll[1]==\"SEQ\": \n",
    "                print(ll[2])\n",
    "                seq_pdb = ll[2]\n",
    "            if ll[0]==(\"{}.pdb\".format(name)): \n",
    "                print(ll[1])\n",
    "                stru_pdb = ll[1]\n",
    "                \n",
    "    ## Align structure to sequence used in experiments\n",
    "    a = seq_pdb\n",
    "    b = seq_exp\n",
    "    search = [(i, i+len(b)) for i in range(len(a)-len(b)+1) if a[i:i+len(b)] == b]\n",
    "    stru = stru_pdb[search[0][0]:search[0][1]]\n",
    "\n",
    "    ## Find GNRA tetraloop locations\n",
    "    stru_loop = [m.start()+1 for m in regex.finditer('\\(\\.\\.\\.\\.\\)|\\.\\.\\.\\.\\.\\.', stru, overlapped=True)]\n",
    "    seq_loop = [m.start() for m in regex.finditer('GAAA|GAGA|GUAA|GUGA|GCAA|GCGA|GGAA|GGGA', seq_exp, overlapped=True)]\n",
    "    startloop = intersect(seq_loop,stru_loop)\n",
    "    conc = [0.032,0.065,0.125]\n",
    "    print([seq_exp[i:i+4] for i in startloop])\n",
    "\n",
    "    ## Extract reactivities of \n",
    "    print([stru[i:i+4] for i in startloop])\n",
    "    if startloop:\n",
    "        react = np.array([df['areaRX'],df['areaRX.1'],df['areaRX.2']])\n",
    "        react = np.array([react[i]*conc[i]/np.mean(react[i]) for i in range(3)])\n",
    "        nn = np.zeros((len(df['areaRX.2'].values)-4*len(startloop),3))\n",
    "        jj = 0\n",
    "        kk = 0\n",
    "        ## Fit reactivities of GNRA tetraloop nucleotides\n",
    "        for (ii,index) in enumerate(startloop):\n",
    "            nn[kk:kk+i0+index-jj,:] = react[:,jj:i0+index].T\n",
    "            kk = len(react[0,jj:i0+index])\n",
    "            jj = i0+index+4\n",
    "            rr = np.zeros((4,3))\n",
    "            nvalid = 0\n",
    "            for i in range(4):\n",
    "                if i0+index+i < len(ntlist):\n",
    "                    rr[i][:] = react[:,i0+index+i]\n",
    "                    if rr[i].all() > 0.0:\n",
    "                        \n",
    "                        all_loop.append(np.log(rr[i]/conc))\n",
    "                        popt,pcov = curve_fit(fun,np.log(conc),np.log(rr[i]/conc))\n",
    "                        \n",
    "                        slope.append(popt[0])\n",
    "                        inter.append(popt[1])\n",
    "                        \n",
    "                        if i == 0:\n",
    "                            slope_g1.append(popt[0])\n",
    "                            inter_g1.append(popt[1])\n",
    "                        \n",
    "                        slope_err.append(np.sqrt(np.diag(pcov))[0])\n",
    "                        inter_err.append(np.sqrt(np.diag(pcov))[1])\n",
    "\n",
    "                        nvalid += 1\n",
    "        ## Fit reactivities of all the other nucleotides\n",
    "        for i in range(nn.shape[0]):\n",
    "            if nn[i].all() > 0:\n",
    "                \n",
    "                all_stem.append(nn[i])\n",
    "                popt,pcov = curve_fit(fun,np.log(conc),np.log(nn[i]/conc))\n",
    "                \n",
    "                slope1.append(popt[0])\n",
    "                inter1.append(popt[1])\n",
    "                \n",
    "                slope1_err.append(np.sqrt(np.diag(pcov))[0])\n",
    "                inter1_err.append(np.sqrt(np.diag(pcov))[1])"
   ]
  },
  {
   "cell_type": "markdown",
   "metadata": {},
   "source": [
    "## Plotting fit results"
   ]
  },
  {
   "cell_type": "markdown",
   "metadata": {},
   "source": [
    "We analyse here the distribution of power law parameters $\\alpha$ and $\\beta$, and compare it between two groups: nucleotides located in the GNRA loop vs other nucleotides"
   ]
  },
  {
   "cell_type": "code",
   "execution_count": 30,
   "metadata": {},
   "outputs": [],
   "source": [
    "# Get power law from linearized fit\n",
    "\n",
    "gnra_beta = np.ones(len(slope))+slope\n",
    "g1_beta = np.ones(len(slope_g1))+slope_g1\n",
    "\n",
    "other_beta = np.ones(len(slope1))+slope1\n",
    "\n",
    "gnra_alpha = np.exp(inter)\n",
    "g1_alpha = np.exp(inter_g1)\n",
    "\n",
    "other_alpha = np.exp(inter1)"
   ]
  },
  {
   "cell_type": "markdown",
   "metadata": {},
   "source": [
    "### Cumulative distribution of $\\beta$"
   ]
  },
  {
   "cell_type": "code",
   "execution_count": 31,
   "metadata": {},
   "outputs": [],
   "source": [
    "gnra_err = np.array(slope_err)\n",
    "other_err = np.array(slope1_err)\n",
    "\n",
    "idx_gnra = np.argsort(gnra_beta)\n",
    "idx_other = np.argsort(other_beta)"
   ]
  },
  {
   "cell_type": "code",
   "execution_count": 33,
   "metadata": {},
   "outputs": [
    {
     "data": {
      "image/png": "[encoded data removed]",
      "text/plain": [
       "<Figure size 576x432 with 1 Axes>"
      ]
     },
     "metadata": {
      "needs_background": "light"
     },
     "output_type": "display_data"
    }
   ],
   "source": [
    "plt.figure(figsize = (8,6))\n",
    "\n",
    "plt.errorbar(x = other_beta[idx_other],\n",
    "             y = np.array(range(len(other_beta)))/(len(other_beta)-1), \n",
    "             xerr = other_err[idx_other],\n",
    "             fmt = 'o', \n",
    "             capsize = 4.5,\n",
    "             color = '#00A087FF',\n",
    "             label = \"Other\",\n",
    "             alpha = .7,\n",
    "             barsabove = False)\n",
    "\n",
    "plt.errorbar(x = gnra_beta[idx_gnra], \n",
    "             y = np.array(range(len(gnra_beta)))/(len(gnra_beta)-1), \n",
    "             xerr = other_err[idx_gnra], \n",
    "             fmt = 'o', \n",
    "             capsize = 4.5,\n",
    "             color = \"#DC0000FF\",\n",
    "             label = \"GNRA\",\n",
    "             barsabove = False)\n",
    "\n",
    "\n",
    "plt.ylabel(r\"$P(\\beta<\\beta^*)$\", size = 18)\n",
    "plt.xlabel(r\"$\\beta^*$\", size = 18)\n",
    "\n",
    "plt.xticks(size = 14)\n",
    "plt.yticks(size = 14)\n",
    "\n",
    "plt.legend(fontsize = 14)\n",
    "plt.savefig(\"/Users/nicola.calonaci/Documents/GitHub/paper-shapemd/Figures/beta_exp_scatter.png\", dpi = 300)"
   ]
  },
  {
   "cell_type": "markdown",
   "metadata": {},
   "source": [
    "### Distribution and statistical tests for $\\beta$"
   ]
  },
  {
   "cell_type": "code",
   "execution_count": 6,
   "metadata": {},
   "outputs": [
    {
     "data": {
      "text/plain": [
       "Ttest_indResult(statistic=2.821675269223014, pvalue=0.005320475420712254)"
      ]
     },
     "execution_count": 6,
     "metadata": {},
     "output_type": "execute_result"
    }
   ],
   "source": [
    "from scipy import stats\n",
    "\n",
    "stats.ttest_ind(gnra_beta,other_beta)"
   ]
  },
  {
   "cell_type": "code",
   "execution_count": 85,
   "metadata": {},
   "outputs": [
    {
     "data": {
      "image/png": "[encoded data removed]",
      "text/plain": [
       "<Figure size 576x432 with 1 Axes>"
      ]
     },
     "metadata": {
      "needs_background": "light"
     },
     "output_type": "display_data"
    }
   ],
   "source": [
    "# Beta\n",
    "\n",
    "plot_gnra_beta = np.nan*np.ones(other_beta.shape)\n",
    "plot_gnra_beta[0:len(gnra_beta)] = gnra_beta\n",
    "\n",
    "df_beta = pd.DataFrame(data = {\"GNRA\" : plot_gnra_beta, \"Other\" : other_beta})\n",
    "\n",
    "pal = {\"GNRA\": \"#DC0000FF\", \"Other\" : '#00A087FF'} \n",
    "\n",
    "plt.figure(figsize = (8,6))\n",
    "\n",
    "ax = sns.boxplot(data = df_beta, palette = pal)\n",
    "\n",
    "x = np.repeat(\"GNRA\", len(slope_g1))\n",
    "y = np.ones(len(slope_g1))+slope_g1\n",
    "plt.plot(x, y, \"*\", markersize = 14, color = \"k\",  markerfacecolor='gold')\n",
    "\n",
    "ax.set_ylabel(r\"$\\beta$\", rotation=0, size = 18, ha = \"right\")\n",
    "\n",
    "\n",
    "plt.xlabel(\"Nucleotides\", size = 18)\n",
    "plt.xticks(size = 14)\n",
    "plt.yticks(size = 14)\n",
    "plt.xlim(-0.5,1.5)\n",
    "\n",
    "plt.savefig(\"/Users/nicola.calonaci/Documents/GitHub/paper-shapemd/Figures/beta_exp_boxplot.png\", dpi = 300)"
   ]
  },
  {
   "cell_type": "markdown",
   "metadata": {},
   "source": [
    "### Distribution and statistical test for $\\alpha$"
   ]
  },
  {
   "cell_type": "code",
   "execution_count": 8,
   "metadata": {},
   "outputs": [
    {
     "data": {
      "text/plain": [
       "Ttest_indResult(statistic=4.053569252718743, pvalue=7.529443859393035e-05)"
      ]
     },
     "execution_count": 8,
     "metadata": {},
     "output_type": "execute_result"
    }
   ],
   "source": [
    "from scipy import stats\n",
    "\n",
    "stats.ttest_ind(gnra_alpha,other_alpha)"
   ]
  },
  {
   "cell_type": "code",
   "execution_count": 84,
   "metadata": {},
   "outputs": [
    {
     "data": {
      "image/png": "[encoded data removed]",
      "text/plain": [
       "<Figure size 576x432 with 1 Axes>"
      ]
     },
     "metadata": {
      "needs_background": "light"
     },
     "output_type": "display_data"
    }
   ],
   "source": [
    "import seaborn as sns\n",
    "import pandas as pd\n",
    "\n",
    "# Alpha\n",
    "\n",
    "plot_gnra_alpha = np.nan*np.ones(other_alpha.shape)\n",
    "plot_gnra_alpha[0:len(gnra_alpha)] = gnra_alpha\n",
    "\n",
    "# Plots\n",
    "\n",
    "df_alpha = pd.DataFrame(data = {\"GNRA\" : plot_gnra_alpha, \"Other\" : other_alpha})\n",
    "\n",
    "pal = {\"GNRA\": \"#DC0000FF\", \"Other\" : '#00A087FF'} \n",
    "\n",
    "plt.figure(figsize = (8,6))\n",
    "\n",
    "ax = sns.boxplot(data = df_alpha, palette = pal)\n",
    "\n",
    "x = np.repeat(\"GNRA\", len(inter_g1))\n",
    "y = np.ones(len(inter_g1))+inter_g1\n",
    "plt.plot(x, y, \"*\", markersize = 14, color = \"k\",  markerfacecolor='gold')\n",
    "\n",
    "\n",
    "ax.set_ylabel(r\"$\\alpha$\", rotation= 0, size = 18, ha = \"right\")\n",
    "\n",
    "plt.xlabel(\"Nucleotides\", size = 18)\n",
    "plt.xticks(size = 14)\n",
    "plt.yticks(size = 14)\n",
    "plt.savefig(\"/Users/nicola.calonaci/Documents/GitHub/paper-shapemd/Figures/alpha_exp_boxplot.png\", dpi = 300)"
   ]
  }
 ],
 "metadata": {
  "kernelspec": {
   "display_name": "Python 3 (ipykernel)",
   "language": "python",
   "name": "python3"
  },
  "language_info": {
   "codemirror_mode": {
    "name": "ipython",
    "version": 3
   },
   "file_extension": ".py",
   "mimetype": "text/x-python",
   "name": "python",
   "nbconvert_exporter": "python",
   "pygments_lexer": "ipython3",
   "version": "3.9.12"
  }
 },
 "nbformat": 4,
 "nbformat_minor": 4
}
