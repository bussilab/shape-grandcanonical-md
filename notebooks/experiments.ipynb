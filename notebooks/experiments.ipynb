{
 "cells": [
  {
   "cell_type": "markdown",
   "metadata": {},
   "source": [
    "# Analysis of experiments\n",
    "In this notebook we present a simple routine to examine reactivities at varying concentration of SHAPE reagent.\n",
    "In particular we focus on the different behaviour between nucleotides in GNRA tetraloops and the other nucleotides."
   ]
  },
  {
   "cell_type": "code",
   "execution_count": 1,
   "metadata": {},
   "outputs": [],
   "source": [
    "import numpy as np\n",
    "import pandas as pd\n",
    "import matplotlib.pyplot as plt\n",
    "import re\n",
    "import RNA\n",
    "import subprocess as sp\n",
    "import regex\n",
    "import seaborn as sns"
   ]
  },
  {
   "cell_type": "markdown",
   "metadata": {},
   "source": [
    "##  Extraction and fitting of in-house experimental data.\n",
    "The in-house data we used for the manuscript are available in the Github repository (file \"SHAPE_data_cooperativity_series-2.xlsx\").\n",
    "\n",
    "We fit per-nucleotide reactivities as a function of reagent concentration, with the following power law:\n",
    "\n",
    "$$R = \\alpha\\cdot C^\\beta$$\n",
    "\n",
    "We first linearize the power law\n",
    "\n",
    "$$\\log\\frac{R}{C} = \\log\\alpha+(\\beta-1)\\log C$$\n",
    "\n",
    "and then retrieve fit parameters $\\alpha$ and $\\beta$."
   ]
  },
  {
   "cell_type": "code",
   "execution_count": 2,
   "metadata": {
    "scrolled": true
   },
   "outputs": [
    {
     "name": "stdout",
     "output_type": "stream",
     "text": [
      "2N2O\n"
     ]
    },
    {
     "name": "stderr",
     "output_type": "stream",
     "text": [
      "--2023-04-29 11:14:10--  https://files.rcsb.org/download/2N2O.pdb\n",
      "Resolving files.rcsb.org (files.rcsb.org)... 128.6.158.49\n",
      "Connecting to files.rcsb.org (files.rcsb.org)|128.6.158.49|:443... connected.\n",
      "HTTP request sent, awaiting response... 200 OK\n",
      "Length: unspecified [application/octet-stream]\n",
      "Saving to: ‘2N2O.pdb’\n",
      "\n",
      "     0K .......... .......... .......... .......... ..........  204K\n",
      "    50K .......... .......... .......... .......... ..........  412K\n",
      "   100K .......... .......... .......... .......... .......... 63,4M\n",
      "   150K .......... .......... .......... .......... .......... 25,8M\n",
      "   200K .......... .......... .......... .......... ..........  417K\n",
      "   250K .......... .......... .......... .......... .......... 55,3M\n",
      "   300K .......... .......... .......... .......... .......... 61,4M\n",
      "   350K .......... .......... .......... .......... .......... 61,9M\n",
      "   400K .......... .......... .......... .......... ..........  419K\n",
      "   450K .......... .......... .......... .......... .......... 58,1M\n",
      "   500K .......... .......... .......... .......... .......... 54,4M\n",
      "   550K .......... .......... .......... .......... .......    42,9M=0,6s\n",
      "\n",
      "2023-04-29 11:14:12 (974 KB/s) - ‘2N2O.pdb’ saved [611550]\n",
      "\n",
      "/Users/nicola.calonaci/opt/anaconda3/envs/shapemd/lib/python3.9/site-packages/mdtraj/formats/pdb/pdbfile.py:200: UserWarning: Unlikely unit cell vectors detected in PDB file likely resulting from a dummy CRYST1 record. Discarding unit cell vectors.\n",
      "  warnings.warn('Unlikely unit cell vectors detected in PDB file likely '\n",
      "# Loading 2N2O.pdb \n",
      "--2023-04-29 11:14:12--  https://files.rcsb.org/download/2GIS.pdb\n",
      "Resolving files.rcsb.org (files.rcsb.org)... 128.6.158.49\n",
      "Connecting to files.rcsb.org (files.rcsb.org)|128.6.158.49|:443... "
     ]
    },
    {
     "name": "stdout",
     "output_type": "stream",
     "text": [
      "# your output will be written to files with prefix outfile.ANNOTATE\n",
      "GCAUGUUUUCUGUGAAAACGGUU\n",
      "....((((((...))))))....\n",
      "[]\n",
      "[]\n",
      "2GIS\n"
     ]
    },
    {
     "name": "stderr",
     "output_type": "stream",
     "text": [
      "connected.\n",
      "HTTP request sent, awaiting response... 200 OK\n",
      "Length: unspecified [application/octet-stream]\n",
      "Saving to: ‘2GIS.pdb’\n",
      "\n",
      "     0K .......... .......... .......... .......... ..........  203K\n",
      "    50K .......... .......... .......... .......... ..........  412K\n",
      "   100K .......... .......... .......... .......... .......... 53,5M\n",
      "   150K .......... .......... .......... .......... .......... 21,3M\n",
      "   200K .......... ..                                           104K=0,5s\n",
      "\n",
      "2023-04-29 11:14:13 (432 KB/s) - ‘2GIS.pdb’ saved [217647]\n",
      "\n",
      "# Loading 2GIS.pdb \n",
      "# Skipping unknown residue IRI201 \n",
      "# Skipping unknown residue IRI202 \n",
      "# Skipping unknown residue IRI203 \n",
      "# Skipping unknown residue IRI204 \n",
      "# Skipping unknown residue SAM301 \n",
      "--2023-04-29 11:14:14--  https://files.rcsb.org/download/2L1V.pdb\n",
      "Resolving files.rcsb.org (files.rcsb.org)... 128.6.158.49\n",
      "Connecting to files.rcsb.org (files.rcsb.org)|128.6.158.49|:443... "
     ]
    },
    {
     "name": "stdout",
     "output_type": "stream",
     "text": [
      "# your output will be written to files with prefix outfile.ANNOTATE\n",
      "GGCUUAUCAAGAGAGGUGGAGGGACUGGCCCGAUGAAACCCGGCAACCAGAAAUGGUGCCAAUUCCUGCAGCGGAAACGUUGAAAGAUGAGCCA\n",
      "((((.(((....(.(((...(((.[.[[)))......))))(((..(((....))).)))...(]].]((.((....)).))..)))).)))).\n",
      "['GAAA', 'GAAA']\n",
      "['....', '....']\n",
      "2L1V\n"
     ]
    },
    {
     "name": "stderr",
     "output_type": "stream",
     "text": [
      "connected.\n",
      "HTTP request sent, awaiting response... 200 OK\n",
      "Length: unspecified [application/octet-stream]\n",
      "Saving to: ‘2L1V.pdb’\n",
      "\n",
      "     0K .......... .......... .......... .......... ..........  199K\n",
      "    50K .......... .......... .......... .......... ..........  403K\n",
      "   100K .......... .......... .......... .......... .......... 37,5M\n",
      "   150K .......... .......... .......... .......... .......... 36,7M\n",
      "   200K .......... .......... .......... .......... ..........  410K\n",
      "   250K .......... .......... .......... .......... .......... 56,8M\n",
      "   300K .......... .......... .......... .......... ..........  408K\n",
      "   350K .......... .......... .......... .......... .......... 51,1M\n",
      "   400K .......... .......... .......... .......... .......... 54,0M\n",
      "   450K .......... .......... .......... .......... .......... 33,8M\n",
      "   500K .......... .......... .......... .......... .......... 48,5M\n",
      "   550K .......... .......... .......... .......... .......... 58,8M\n",
      "   600K .......... .......... .......... .......... .......... 56,4M\n",
      "   650K .......... .......... .......... .......... .......... 57,1M\n",
      "   700K .......... .......... .......... .......... ..........  419K\n",
      "   750K .......... .......... .......... .......... .......... 93,5M\n",
      "   800K .......... .......... .......... .......... .......... 36,0M\n",
      "   850K .......... .......... .......... .......... .......... 53,7M\n",
      "   900K .......... .......... .......... .......... .......... 56,1M\n",
      "   950K .......... .......... .......... .......... .......... 58,1M\n",
      "  1000K .......... .......... .......... .......... ..........  100M\n",
      "  1050K .......... .......... .......... .......... .......... 66,3M\n",
      "  1100K .......... .......... .......... .......... ..........  423K\n",
      "  1150K .......... .......... .......... .......... .......... 43,0M\n",
      "  1200K .......... .......... .......... .......... .......... 47,4M\n",
      "  1250K .......... .......... .......... .......... .......... 49,8M\n",
      "  1300K .......... .......... .......... .......... .......... 78,5M\n",
      "  1350K .......... .......... .......... .......... .......... 86,4M\n",
      "  1400K .......... .......... .......... .......... .......... 66,3M\n",
      "  1450K .......... .......... .......... .......... .......... 87,2M\n",
      "  1500K .......... .......... .......... .......... .......... 58,8M\n",
      "  1550K .......... .......... .......... .......... .......... 75,0M\n",
      "  1600K .......... .......... .......... .......... ..........  105M\n",
      "  1650K .......... .......... .......... .......... ..........  114M\n",
      "  1700K .......... .......... .......... .......... .......... 90,8M\n",
      "  1750K .......... .......... .......... .......... .......... 25,1M\n",
      "  1800K .......... .......... .......... .......... .......... 63,0M\n",
      "  1850K .......... .......... .........                        64,6M=0,9s\n",
      "\n",
      "2023-04-29 11:14:15 (2,07 MB/s) - ‘2L1V.pdb’ saved [1924560]\n",
      "\n",
      "/Users/nicola.calonaci/opt/anaconda3/envs/shapemd/lib/python3.9/site-packages/mdtraj/formats/pdb/pdbfile.py:200: UserWarning: Unlikely unit cell vectors detected in PDB file likely resulting from a dummy CRYST1 record. Discarding unit cell vectors.\n",
      "  warnings.warn('Unlikely unit cell vectors detected in PDB file likely '\n",
      "# Loading 2L1V.pdb \n",
      "# Skipping unknown residue PRF37 \n",
      "--2023-04-29 11:14:17--  https://files.rcsb.org/download/1SCL.pdb\n",
      "Resolving files.rcsb.org (files.rcsb.org)... 128.6.158.49\n",
      "Connecting to files.rcsb.org (files.rcsb.org)|128.6.158.49|:443... "
     ]
    },
    {
     "name": "stdout",
     "output_type": "stream",
     "text": [
      "# your output will be written to files with prefix outfile.ANNOTATE\n",
      "GGAGAGGUUCUAGUUAUACCCUCUAUAAAAAACUAA\n",
      "..(((((...[[[......)))))........]]].\n",
      "[]\n",
      "[]\n",
      "1SCL\n"
     ]
    },
    {
     "name": "stderr",
     "output_type": "stream",
     "text": [
      "connected.\n",
      "HTTP request sent, awaiting response... 200 OK\n",
      "Length: unspecified [application/octet-stream]\n",
      "Saving to: ‘1SCL.pdb’\n",
      "\n",
      "     0K .......... .......... .......... .......... ..........  204K\n",
      "    50K .......... .......... .......... .......... ..........  413K\n",
      "   100K .......... .......... .......... .......... .......... 49,0M\n",
      "   150K .......... .......... .......... .......... .......... 26,8M\n",
      "   200K .......... .......... .......... .......... ..........  417K\n",
      "   250K .......... .......... .......... .......... .......... 95,9M\n",
      "   300K .......... .......... .......... .......... .......... 47,7M\n",
      "   350K .......... .......... .......... .......... .......... 84,0M\n",
      "   400K .......... .......... .......... .......... ..........  424K\n",
      "   450K ........                                               56,8M=0,6s\n",
      "\n",
      "2023-04-29 11:14:18 (754 KB/s) - ‘1SCL.pdb’ saved [469800]\n",
      "\n",
      "/Users/nicola.calonaci/opt/anaconda3/envs/shapemd/lib/python3.9/site-packages/mdtraj/formats/pdb/pdbfile.py:200: UserWarning: Unlikely unit cell vectors detected in PDB file likely resulting from a dummy CRYST1 record. Discarding unit cell vectors.\n",
      "  warnings.warn('Unlikely unit cell vectors detected in PDB file likely '\n",
      "# Loading 1SCL.pdb \n",
      "--2023-04-29 11:14:18--  https://files.rcsb.org/download/1KXK.pdb\n",
      "Resolving files.rcsb.org (files.rcsb.org)... "
     ]
    },
    {
     "name": "stdout",
     "output_type": "stream",
     "text": [
      "# your output will be written to files with prefix outfile.ANNOTATE\n",
      "GGGUGCUCAGUACGAGAGGAACCGCACCC\n",
      "((((((......(....).....))))))\n",
      "['GAGA']\n",
      "['....']\n",
      "1KXK\n"
     ]
    },
    {
     "name": "stderr",
     "output_type": "stream",
     "text": [
      "128.6.158.49\n",
      "Connecting to files.rcsb.org (files.rcsb.org)|128.6.158.49|:443... connected.\n",
      "HTTP request sent, awaiting response... 200 OK\n",
      "Length: unspecified [application/octet-stream]\n",
      "Saving to: ‘1KXK.pdb’\n",
      "\n",
      "     0K .......... .......... .......... .......... ..........  196K\n",
      "    50K .......... .......... .......... .......... ..........  401K\n",
      "   100K .......... .......... .......... .......... ....       22,8M=0,4s\n",
      "\n",
      "2023-04-29 11:14:19 (379 KB/s) - ‘1KXK.pdb’ saved [148392]\n",
      "\n",
      "# Loading 1KXK.pdb \n",
      "--2023-04-29 11:14:20--  https://files.rcsb.org/download/1CQ5.pdb\n",
      "Resolving files.rcsb.org (files.rcsb.org)... 128.6.158.49\n",
      "Connecting to files.rcsb.org (files.rcsb.org)|128.6.158.49|:443... "
     ]
    },
    {
     "name": "stdout",
     "output_type": "stream",
     "text": [
      "# your output will be written to files with prefix outfile.ANNOTATE\n",
      "GUCUACCUAUCGGGCUAAGGAGCCGUAUGCGAUGAAAGUCGCACGUACGGUUCUAUGCCCGGGGGAAAAC\n",
      ".....((...(((((....((..(((..((((......))))....)))..))...))))).))......\n",
      "['GAAA', 'GAAA']\n",
      "['....', '....']\n",
      "1CQ5\n"
     ]
    },
    {
     "name": "stderr",
     "output_type": "stream",
     "text": [
      "connected.\n",
      "HTTP request sent, awaiting response... 200 OK\n",
      "Length: unspecified [application/octet-stream]\n",
      "Saving to: ‘1CQ5.pdb’\n",
      "\n",
      "     0K .......... .......... .......... .......... ..........  185K\n",
      "    50K .......... .......... .......... .......... ..........  366K\n",
      "   100K .......... .......... .......... ..                    96,5M=0,4s\n",
      "\n",
      "2023-04-29 11:14:21 (325 KB/s) - ‘1CQ5.pdb’ saved [135675]\n",
      "\n",
      "/Users/nicola.calonaci/opt/anaconda3/envs/shapemd/lib/python3.9/site-packages/mdtraj/formats/pdb/pdbfile.py:200: UserWarning: Unlikely unit cell vectors detected in PDB file likely resulting from a dummy CRYST1 record. Discarding unit cell vectors.\n",
      "  warnings.warn('Unlikely unit cell vectors detected in PDB file likely '\n",
      "# Loading 1CQ5.pdb \n",
      "--2023-04-29 11:14:22--  https://files.rcsb.org/download/2GV4.pdb\n",
      "Resolving files.rcsb.org (files.rcsb.org)... 128.6.158.49\n",
      "Connecting to files.rcsb.org (files.rcsb.org)|128.6.158.49|:443... "
     ]
    },
    {
     "name": "stdout",
     "output_type": "stream",
     "text": [
      "# your output will be written to files with prefix outfile.ANNOTATE\n",
      "GGCGUUUACCAGGUCAGGUCCGGAAGGAAGCAGCCAAGGCGCC\n",
      "((((.......((.....(((....))).....))....))))\n",
      "['GGAA']\n",
      "['....']\n",
      "2GV4\n"
     ]
    },
    {
     "name": "stderr",
     "output_type": "stream",
     "text": [
      "connected.\n",
      "HTTP request sent, awaiting response... 200 OK\n",
      "Length: unspecified [application/octet-stream]\n",
      "Saving to: ‘2GV4.pdb’\n",
      "\n",
      "     0K .......... .......... .......... .......... ..........  196K\n",
      "    50K .......... .......... .......... .......... ..........  397K\n",
      "   100K .......... .......... .......... .......... .......... 56,6M\n",
      "   150K .......... .......... .......... .......... .......... 18,6M\n",
      "   200K .......... .......... .......... .......... ..........  396K\n",
      "   250K .......... .......... .......... .......... .......... 58,8M\n",
      "   300K .......... .......... .......... .......... .......... 58,6M\n",
      "   350K .......... .......... .......... .......... .......... 56,1M\n",
      "   400K .......... .......... .......... .......... ..........  405K\n",
      "   450K .......... .......... .......... .......... .......... 55,7M\n",
      "   500K .......... .......... .......... .......... .......... 53,2M\n",
      "   550K .......... .......... .......... .......... .......... 58,2M\n",
      "   600K .......... .......... .......... .......... .......... 52,1M\n",
      "   650K .......... .......... .......... .......... .......... 60,0M\n",
      "   700K .......... .......... .......... .......... .          55,6M=0,6s\n",
      "\n",
      "2023-04-29 11:14:23 (1,13 MB/s) - ‘2GV4.pdb’ saved [759213]\n",
      "\n"
     ]
    },
    {
     "name": "stdout",
     "output_type": "stream",
     "text": [
      "# your output will be written to files with prefix outfile.ANNOTATE\n",
      "GGACCUCUCGAAAGAGUGGUCC\n",
      "..(.(..(......)..).)..\n",
      "['GAAA']\n",
      "['....']\n"
     ]
    },
    {
     "name": "stderr",
     "output_type": "stream",
     "text": [
      "/Users/nicola.calonaci/opt/anaconda3/envs/shapemd/lib/python3.9/site-packages/mdtraj/formats/pdb/pdbfile.py:200: UserWarning: Unlikely unit cell vectors detected in PDB file likely resulting from a dummy CRYST1 record. Discarding unit cell vectors.\n",
      "  warnings.warn('Unlikely unit cell vectors detected in PDB file likely '\n",
      "# Loading 2GV4.pdb \n"
     ]
    }
   ],
   "source": [
    "def intersect(x,y):\n",
    "    out = []\n",
    "    for i in range(len(x)):\n",
    "        for j in range(len(y)):\n",
    "            if x[i]==y[j]:\n",
    "                out.append(x[i])\n",
    "    return out\n",
    "\n",
    "def fun(x,a,b):\n",
    "    return a*x+b\n",
    "\n",
    "import regex\n",
    "from scipy.optimize import curve_fit\n",
    "from scipy.stats import dirichlet\n",
    "\n",
    "slope = []\n",
    "slope_err = []\n",
    "\n",
    "inter = []\n",
    "inter_err = []\n",
    "\n",
    "slope1 = []\n",
    "slope1_err = []\n",
    "\n",
    "inter1 = []\n",
    "inter1_err = []\n",
    "\n",
    "all_loop = []\n",
    "all_stem = []\n",
    "for name in ['2N2O', '2GIS', '2L1V', '1SCL', '1KXK', '1CQ5', '2GV4']:\n",
    "    ## Read data-sheet and build sequence\n",
    "    df = pd.read_excel('SHAPE_data_cooperativity_series-2.xlsx', sheet_name=name, engine='openpyxl', skiprows=1)\n",
    "    print(name)\n",
    "    i0 = 0\n",
    "    for s in df.seqRNA.values:\n",
    "        if s not in ['A','U','C','G']:\n",
    "            i0 += 1\n",
    "        else:\n",
    "            break\n",
    "    ntlist = ''.join([s for s in df.seqRNA.values if s in ['A','U','C','G']])\n",
    "    seq_exp = ''.join(ntlist)\n",
    "    \n",
    "    ## Download pdb and build secondary structure with baRNAba\n",
    "    sp.call([\"rm\",\"-rf\",\"{}.pdb\".format(name)])\n",
    "    sp.call([\"wget\",\"https://files.rcsb.org/download/{}.pdb\".format(name)])\n",
    "    sp.call([\"barnaba\",\"ANNOTATE\",\"--pdb\",\"{}.pdb\".format(name),\"--dotbracket\"])\n",
    "    with open(\"outfile.ANNOTATE.dotbracket.out\", \"r\") as f:\n",
    "        data = f.readlines()\n",
    "        for l in data:\n",
    "            ll=l.split()\n",
    "            if ll[1]==\"SEQ\": \n",
    "                print(ll[2])\n",
    "                seq_pdb = ll[2]\n",
    "            if ll[0]==(\"{}.pdb\".format(name)): \n",
    "                print(ll[1])\n",
    "                stru_pdb = ll[1]\n",
    "                \n",
    "    ## Align structure to sequence used in experiments\n",
    "    a = seq_pdb\n",
    "    b = seq_exp\n",
    "    search = [(i, i+len(b)) for i in range(len(a)-len(b)+1) if a[i:i+len(b)] == b]\n",
    "    stru = stru_pdb[search[0][0]:search[0][1]]\n",
    "\n",
    "    ## Find GNRA tetraloop locations\n",
    "    stru_loop = [m.start() for m in regex.finditer('\\.\\.\\.\\.', stru, overlapped=True)]\n",
    "    seq_loop = [m.start() for m in regex.finditer('GAAA|GAGA|GUAA|GUGA|GCAA|GCGA|GGAA|GGGA', seq_exp, overlapped=True)]\n",
    "    startloop = intersect(seq_loop,stru_loop)\n",
    "    conc = [0.032,0.065,0.125]\n",
    "    print([seq_exp[i:i+4] for i in startloop])\n",
    "\n",
    "    ## Extract reactivities of \n",
    "    print([stru[i:i+4] for i in startloop])\n",
    "    if startloop:\n",
    "        react = np.array([df['areaRX'],df['areaRX.1'],df['areaRX.2']])\n",
    "        react = np.array([react[i]*conc[i]/np.mean(react[i]) for i in range(3)])\n",
    "        nn = np.zeros((len(df['areaRX.2'].values)-4*len(startloop),3))\n",
    "        jj = 0\n",
    "        kk = 0\n",
    "        ## Fit reactivities of GNRA tetraloop nucleotides\n",
    "        for (ii,index) in enumerate(startloop):\n",
    "            nn[kk:kk+i0+index-jj,:] = react[:,jj:i0+index].T\n",
    "            kk = len(react[0,jj:i0+index])\n",
    "            jj = i0+index+4\n",
    "            rr = np.zeros((4,3))\n",
    "            nvalid = 0\n",
    "            for i in range(4):\n",
    "                if i0+index+i < len(ntlist):\n",
    "                    rr[i][:] = react[:,i0+index+i]\n",
    "                    if rr[i].all() > 0.0:\n",
    "                        \n",
    "                        all_loop.append(np.log(rr[i]/conc))\n",
    "                        popt,pcov = curve_fit(fun,np.log(conc),np.log(rr[i]/conc))\n",
    "                        \n",
    "                        slope.append(popt[0])\n",
    "                        inter.append(popt[1])\n",
    "                        \n",
    "                        slope_err.append(np.sqrt(np.diag(pcov))[0])\n",
    "                        inter_err.append(np.sqrt(np.diag(pcov))[1])\n",
    "\n",
    "                        nvalid += 1\n",
    "        ## Fit reactivities of all the other nucleotides\n",
    "        for i in range(nn.shape[0]):\n",
    "            if nn[i].all() > 0:\n",
    "                \n",
    "                all_stem.append(nn[i])\n",
    "                popt,pcov = curve_fit(fun,np.log(conc),np.log(nn[i]/conc))\n",
    "                \n",
    "                slope1.append(popt[0])\n",
    "                inter1.append(popt[1])\n",
    "                \n",
    "                slope1_err.append(np.sqrt(np.diag(pcov))[0])\n",
    "                inter1_err.append(np.sqrt(np.diag(pcov))[1])"
   ]
  },
  {
   "cell_type": "markdown",
   "metadata": {},
   "source": [
    "## Plotting fit results"
   ]
  },
  {
   "cell_type": "markdown",
   "metadata": {},
   "source": [
    "We analyse here the distribution of power law parameters $\\alpha$ and $\\beta$, and compare it between two groups: nucleotides located in the GNRA loop vs other nucleotides"
   ]
  },
  {
   "cell_type": "code",
   "execution_count": 3,
   "metadata": {},
   "outputs": [],
   "source": [
    "# Get power law from linearized fit\n",
    "\n",
    "gnra_beta = np.ones(len(slope))+slope\n",
    "other_beta = np.ones(len(slope1))+slope1\n",
    "\n",
    "gnra_alpha = np.exp(inter)\n",
    "other_alpha = np.exp(inter1)"
   ]
  },
  {
   "cell_type": "markdown",
   "metadata": {},
   "source": [
    "### Cumulative distribution of $\\beta$"
   ]
  },
  {
   "cell_type": "code",
   "execution_count": 4,
   "metadata": {},
   "outputs": [],
   "source": [
    "gnra_err = np.array(slope_err)\n",
    "other_err = np.array(slope1_err)\n",
    "\n",
    "idx_gnra = np.argsort(gnra_beta)\n",
    "idx_other = np.argsort(other_beta)"
   ]
  },
  {
   "cell_type": "code",
   "execution_count": 5,
   "metadata": {},
   "outputs": [
    {
     "data": {
      "image/png": "[encoded data removed]",
      "text/plain": [
       "<Figure size 576x432 with 1 Axes>"
      ]
     },
     "metadata": {
      "needs_background": "light"
     },
     "output_type": "display_data"
    }
   ],
   "source": [
    "plt.figure(figsize = (8,6))\n",
    "\n",
    "plt.errorbar(x = other_beta[idx_other],\n",
    "             y = np.array(range(len(other_beta)))/(len(other_beta)-1), \n",
    "             xerr = other_err[idx_other],\n",
    "             fmt = 'o', \n",
    "             capsize = 4.5,\n",
    "             color = '#00A087FF',\n",
    "             label = \"Other\",\n",
    "             alpha = .7,\n",
    "             barsabove = False)\n",
    "\n",
    "plt.errorbar(x = gnra_beta[idx_gnra], \n",
    "             y = np.array(range(len(gnra_beta)))/(len(gnra_beta)-1), \n",
    "             xerr = other_err[idx_gnra], \n",
    "             fmt = 'o', \n",
    "             capsize = 4.5,\n",
    "             color = \"#DC0000FF\",\n",
    "             label = \"GNRA\",\n",
    "             barsabove = False)\n",
    "\n",
    "plt.ylabel(r\"$P(\\beta<\\beta^*)$\", size = 18)\n",
    "plt.xlabel(r\"$\\beta^*$\", size = 18)\n",
    "\n",
    "plt.xticks(size = 14)\n",
    "plt.yticks(size = 14)\n",
    "\n",
    "plt.legend(fontsize = 14)\n",
    "plt.savefig(\"/Users/nicola.calonaci/Documents/GitHub/paper-shapemd/Figures/beta_exp_scatter.png\", dpi = 300)"
   ]
  },
  {
   "cell_type": "markdown",
   "metadata": {},
   "source": [
    "### Distribution and statistical tests for $\\beta$"
   ]
  },
  {
   "cell_type": "code",
   "execution_count": 6,
   "metadata": {},
   "outputs": [
    {
     "data": {
      "text/plain": [
       "Ttest_indResult(statistic=2.821675269223014, pvalue=0.005320475420712254)"
      ]
     },
     "execution_count": 6,
     "metadata": {},
     "output_type": "execute_result"
    }
   ],
   "source": [
    "from scipy import stats\n",
    "\n",
    "stats.ttest_ind(gnra_beta,other_beta)"
   ]
  },
  {
   "cell_type": "code",
   "execution_count": 7,
   "metadata": {},
   "outputs": [
    {
     "data": {
      "image/png": "[encoded data removed]",
      "text/plain": [
       "<Figure size 576x432 with 1 Axes>"
      ]
     },
     "metadata": {
      "needs_background": "light"
     },
     "output_type": "display_data"
    }
   ],
   "source": [
    "# Beta\n",
    "\n",
    "plot_gnra_beta = np.nan*np.ones(other_beta.shape)\n",
    "plot_gnra_beta[0:len(gnra_beta)] = gnra_beta\n",
    "\n",
    "df_beta = pd.DataFrame(data = {\"GNRA\" : plot_gnra_beta, \"Other\" : other_beta})\n",
    "\n",
    "pal = {\"GNRA\": \"#DC0000FF\", \"Other\" : '#00A087FF'} \n",
    "\n",
    "plt.figure(figsize = (8,6))\n",
    "\n",
    "ax = sns.boxplot(data = df_beta, palette = pal)\n",
    "\n",
    "\n",
    "ax.set_ylabel(r\"$\\beta$\", rotation=0, size = 18, ha = \"right\")\n",
    "\n",
    "plt.xlabel(\"Nucleotides\", size = 18)\n",
    "plt.xticks(size = 14)\n",
    "plt.yticks(size = 14)\n",
    "plt.xlim(-0.5,1.5)\n",
    "\n",
    "plt.savefig(\"/Users/nicola.calonaci/Documents/GitHub/paper-shapemd/Figures/beta_exp_boxplot.png\", dpi = 300)"
   ]
  },
  {
   "cell_type": "markdown",
   "metadata": {},
   "source": [
    "### Distribution and statistical test for $\\alpha$"
   ]
  },
  {
   "cell_type": "code",
   "execution_count": 8,
   "metadata": {},
   "outputs": [
    {
     "data": {
      "text/plain": [
       "Ttest_indResult(statistic=4.053569252718743, pvalue=7.529443859393035e-05)"
      ]
     },
     "execution_count": 8,
     "metadata": {},
     "output_type": "execute_result"
    }
   ],
   "source": [
    "from scipy import stats\n",
    "\n",
    "stats.ttest_ind(gnra_alpha,other_alpha)"
   ]
  },
  {
   "cell_type": "code",
   "execution_count": 9,
   "metadata": {},
   "outputs": [
    {
     "data": {
      "image/png": "[encoded data removed]",
      "text/plain": [
       "<Figure size 576x432 with 1 Axes>"
      ]
     },
     "metadata": {
      "needs_background": "light"
     },
     "output_type": "display_data"
    }
   ],
   "source": [
    "import seaborn as sns\n",
    "import pandas as pd\n",
    "\n",
    "# Alpha\n",
    "\n",
    "plot_gnra_alpha = np.nan*np.ones(other_alpha.shape)\n",
    "plot_gnra_alpha[0:len(gnra_alpha)] = gnra_alpha\n",
    "\n",
    "# Plots\n",
    "\n",
    "df_alpha = pd.DataFrame(data = {\"GNRA\" : plot_gnra_alpha, \"Other\" : other_alpha})\n",
    "\n",
    "pal = {\"GNRA\": \"#DC0000FF\", \"Other\" : '#00A087FF'} \n",
    "\n",
    "plt.figure(figsize = (8,6))\n",
    "\n",
    "ax = sns.boxplot(data = df_alpha, palette = pal)\n",
    "\n",
    "ax.set_ylabel(r\"$\\alpha$\", rotation= 0, size = 18, ha = \"right\")\n",
    "\n",
    "plt.xlabel(\"Nucleotides\", size = 18)\n",
    "plt.xticks(size = 14)\n",
    "plt.yticks(size = 14)\n",
    "plt.savefig(\"/Users/nicola.calonaci/Documents/GitHub/paper-shapemd/Figures/alpha_exp_boxplot.png\", dpi = 300)"
   ]
  }
 ],
 "metadata": {
  "kernelspec": {
   "display_name": "Python 3 (ipykernel)",
   "language": "python",
   "name": "python3"
  },
  "language_info": {
   "codemirror_mode": {
    "name": "ipython",
    "version": 3
   },
   "file_extension": ".py",
   "mimetype": "text/x-python",
   "name": "python",
   "nbconvert_exporter": "python",
   "pygments_lexer": "ipython3",
   "version": "3.9.12"
  }
 },
 "nbformat": 4,
 "nbformat_minor": 4
}
