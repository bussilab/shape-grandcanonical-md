{
 "cells": [
  {
   "cell_type": "markdown",
   "id": "b8dcad67",
   "metadata": {},
   "source": [
    "## Compute grand-canonical averages\n",
    "\n",
    "Use the following functions to:\n",
    "\n",
    "   1) compute the maximum-likelihood partition functions of buffer $\\Omega_B$ and binding $\\Omega_A$ regions\n",
    "   \n",
    "   2) estimate the chemical potential $\\mu$ as a function of the number of particles $N_B$ in the buffer region $B$\n",
    "   \n",
    "   3) compute grand-canonical averages"
   ]
  },
  {
   "cell_type": "code",
   "execution_count": 1,
   "id": "6cf13dfd",
   "metadata": {},
   "outputs": [],
   "source": [
    "# Import required modules\n",
    "\n",
    "import numpy as np\n",
    "import pickle as pkl\n",
    "import mdtraj as md"
   ]
  },
  {
   "cell_type": "markdown",
   "id": "9dc2df34",
   "metadata": {},
   "source": [
    "### 1) Compute $\\Omega_A$ and $\\Omega_B$"
   ]
  },
  {
   "cell_type": "code",
   "execution_count": 2,
   "id": "d42d0a49",
   "metadata": {},
   "outputs": [],
   "source": [
    "# Normalization step\n",
    "\n",
    "def normalize(OA,OB):\n",
    "    \n",
    "    A=+np.array(OA)\n",
    "    B=+np.array(OB)\n",
    "    \n",
    "    for k in range(len(A)): # this runs over the number of all possibile combinations of particle states\n",
    "        if A[k]!=0:\n",
    "            A/=A[k]\n",
    "            break\n",
    "            \n",
    "    for k in range(len(B)):\n",
    "        if B[k]!=0:\n",
    "            B/=B[k]\n",
    "            factor=B[k+1]/B[k]\n",
    "            break\n",
    "            \n",
    "    for k in range(len(B)):\n",
    "        B[k]/=factor**k\n",
    "        \n",
    "    for k in range(len(A)):\n",
    "        A[k]/=factor**k\n",
    "        \n",
    "    return A,B"
   ]
  },
  {
   "cell_type": "code",
   "execution_count": 3,
   "id": "e7a4a177",
   "metadata": {},
   "outputs": [],
   "source": [
    "# Estimation step  \n",
    "\n",
    "def iterate(A,B,L,OA,OB):\n",
    "    \n",
    "    # Initialize partition functions\n",
    "    \n",
    "    if OA is None:\n",
    "        OA=+A\n",
    "        OA=np.ones(len(A))\n",
    "    \n",
    "    if OB is None:\n",
    "        OB=+B\n",
    "        OB=np.ones(len(B))\n",
    "    \n",
    "    # Find normalization factors first:\n",
    "    \n",
    "    C={}\n",
    "    for N in L.keys():\n",
    "        s=0\n",
    "        for k in range(len(OA)):\n",
    "            if N-k>=0 and N-k<len(OB): # outside of bounds, OA and OB are implicitely zero\n",
    "                s+=OA[k]*OB[N-k]\n",
    "        C[N]=1.0/s\n",
    "        \n",
    "    # Update OA\n",
    "\n",
    "    OA_new=np.zeros(len(OA))\n",
    "    for k in range(len(OA)):\n",
    "        s=0\n",
    "        for N in L.keys():\n",
    "            if N-k>=0 and N-k<len(OB): # outside of bounds, OB is implicitely zero\n",
    "                s+=L[N]*C[N]*OB[N-k]\n",
    "        if A[k]==0:\n",
    "            OA_new[k]=0.0\n",
    "        else:\n",
    "            OA_new[k]=A[k]/s\n",
    "     \n",
    "    # Update OB\n",
    "    \n",
    "    OB_new=np.zeros(len(OB))\n",
    "    for k in range(len(OB)):\n",
    "        s=0\n",
    "        for N in L.keys():\n",
    "            if N-k>=0 and N-k<len(OA): # outside of bounds, OA is implicitely zero\n",
    "                s+=L[N]*C[N]*OA[N-k]\n",
    "        if B[k]==0:\n",
    "            OB_new[k]=0.0\n",
    "        else:\n",
    "            OB_new[k]=B[k]/s\n",
    "            \n",
    "    # Normalize for plotting:\n",
    "    \n",
    "    eps = np.sum((OA_new-OA)**2)+np.sum((OB_new-OB)**2)\n",
    "    OA_new,OB_new = normalize(OA_new,OB_new)\n",
    "    \n",
    "    return OA_new,OB_new,eps"
   ]
  },
  {
   "cell_type": "code",
   "execution_count": 4,
   "id": "f7495aff",
   "metadata": {},
   "outputs": [],
   "source": [
    "# Running routine\n",
    "\n",
    "def solve(A,B,L,threshold = 1e-10, max_n_steps = 1000):\n",
    "    \n",
    "    # Initialize partition functions\n",
    "    \n",
    "    OA,OB = None,None\n",
    "    \n",
    "    for i in range(max_n_steps):\n",
    "        \n",
    "        OA,OB,eps = iterate(A,B,L,OA,OB)\n",
    "                \n",
    "        if(eps < threshold):\n",
    "            print(\"Iteration at convergency\\t eps\")\n",
    "            print(i,\"\\t\",eps)\n",
    "            break\n",
    "    \n",
    "    return OA,OB"
   ]
  },
  {
   "cell_type": "markdown",
   "id": "f57a0731",
   "metadata": {},
   "source": [
    "#### Example"
   ]
  },
  {
   "cell_type": "code",
   "execution_count": 5,
   "id": "b5d1ab05",
   "metadata": {},
   "outputs": [
    {
     "name": "stdout",
     "output_type": "stream",
     "text": [
      "Iteration at convergency\t eps\n",
      "126 \t 3.590424343304825e-31\n"
     ]
    }
   ],
   "source": [
    "# Load file binding tensor obtained with compute_bindings.ipynb\n",
    "\n",
    "bindings = pkl.load(open(\"../data/example_data/other/bindings_2.9_0.35.dat\", \"rb\"))\n",
    "\n",
    "# Compute number of frames with k particles in binding region A, for each k in 1,..,N\n",
    "\n",
    "A = np.sum(np.sum(bindings, axis=(0,5,6))[0,0], axis=1)\n",
    "\n",
    "# Compute number of frames with k particles in buffer region B, for each k in 1,..,N\n",
    "\n",
    "B = np.sum(np.sum(bindings, axis=(0,5,6))[0,0], axis=0)\n",
    "\n",
    "# Compute total number of frames from each trajectory at fixed N\n",
    "\n",
    "L = dict((N+1,LN) for N,LN in enumerate(np.sum(np.sum(bindings[:,0,0,:], axis=(3,4))[:], axis=(1,2))))\n",
    "\n",
    "# Run the routine to compute partition functions\n",
    "\n",
    "OA,OB = solve(A,B,L,1e-30)"
   ]
  },
  {
   "cell_type": "code",
   "execution_count": 6,
   "id": "2e8adf7d",
   "metadata": {},
   "outputs": [
    {
     "data": {
      "image/png": "[encoded data removed]",
      "text/plain": [
       "<Figure size 576x288 with 1 Axes>"
      ]
     },
     "metadata": {
      "needs_background": "light"
     },
     "output_type": "display_data"
    }
   ],
   "source": [
    "import matplotlib.pyplot as plt\n",
    "plt.figure(figsize=(8,4))\n",
    "plt.plot(A, '-', label='A')\n",
    "plt.plot(B, '-', label = 'B')\n",
    "plt.xticks(list(range(20)), fontsize=14)\n",
    "plt.yticks(fontsize=14)\n",
    "plt.ylabel('counts', fontsize=18)\n",
    "plt.xlabel('k', fontsize=18)\n",
    "plt.legend(fontsize=14)\n",
    "plt.show()"
   ]
  },
  {
   "cell_type": "code",
   "execution_count": 7,
   "id": "2263690c",
   "metadata": {},
   "outputs": [
    {
     "data": {
      "image/png": "[encoded data removed]",
      "text/plain": [
       "<Figure size 576x288 with 1 Axes>"
      ]
     },
     "metadata": {
      "needs_background": "light"
     },
     "output_type": "display_data"
    }
   ],
   "source": [
    "import matplotlib.pyplot as plt\n",
    "plt.figure(figsize=(8,4))\n",
    "plt.plot(OA, '-', label = r'$\\Omega_A$')\n",
    "plt.plot(OB, '-', label = r'$\\Omega_B$')\n",
    "plt.xticks(list(range(20)), fontsize=14)\n",
    "plt.yticks(fontsize=14)\n",
    "plt.ylabel(r'$\\Omega_{A/B}(k)$', fontsize=18)\n",
    "plt.xlabel('k', fontsize=18)\n",
    "plt.legend(fontsize=14)\n",
    "plt.show()"
   ]
  },
  {
   "cell_type": "markdown",
   "id": "c82deba7",
   "metadata": {},
   "source": [
    "### 2) Compute $\\mu(N_B)$"
   ]
  },
  {
   "cell_type": "code",
   "execution_count": 8,
   "id": "d0a8d1eb",
   "metadata": {},
   "outputs": [],
   "source": [
    "def find_mu(mu,OB,NB):\n",
    "    P =+ OB\n",
    "    for k in range(len(P)):\n",
    "        P[k]*=np.exp(-mu*k)\n",
    "    P/=np.sum(P)\n",
    "    NB_estimate=np.sum(P*range(len(P)))\n",
    "    return np.log(NB)-np.log(NB_estimate)"
   ]
  },
  {
   "cell_type": "markdown",
   "id": "54f72936",
   "metadata": {},
   "source": [
    "#### Example"
   ]
  },
  {
   "cell_type": "code",
   "execution_count": 9,
   "id": "cde32dd2",
   "metadata": {},
   "outputs": [],
   "source": [
    "# Estimate average box volume from trajectories\n",
    "# here on example data:\n",
    "\n",
    "volumes = np.array([])\n",
    "\n",
    "for nprobes in range(1,10):\n",
    "    top = md.load_topology('../data/example_data/topologies/top_n'+str(nprobes)+'.gro')\n",
    "    top = top.subset(top.select(\"(resname =~ '1M7') or (resname =~ 'A') or (resname =~ 'U') or (resname =~ 'C') or (resname =~ 'G')\"))\n",
    "    traj = md.load('../data/example_data/trajectories/traj_n'+str(nprobes)+'_reduced.xtc', top = top)\n",
    "    volumes = np.concatenate((volumes, traj.unitcell_volumes))"
   ]
  },
  {
   "cell_type": "code",
   "execution_count": 10,
   "id": "a4808c29",
   "metadata": {},
   "outputs": [],
   "source": [
    "# Convert average volume to liter units\n",
    "\n",
    "vv = np.mean(volumes) ## average box volume\n",
    "vvl = vv*1e-24 ## volume in L\n",
    "\n",
    "# Set a range of reagent concentrations\n",
    "c_exp = np.logspace(-6,-2,50)\n",
    "\n",
    "# Compute corresponding number of particles in buffer region B\n",
    "\n",
    "nav = 6.022*1e23  ## mol^{-1}\n",
    "nb_exp = nav*vvl*c_exp"
   ]
  },
  {
   "cell_type": "code",
   "execution_count": 11,
   "id": "f8a32431",
   "metadata": {},
   "outputs": [],
   "source": [
    "# Find values of the chemical potential corresponding to the chosen reagent concentration\n",
    "\n",
    "import scipy.optimize as opt\n",
    "\n",
    "mu = []\n",
    "\n",
    "for nb in nb_exp:\n",
    "    mu.append(opt.bisect(find_mu,-10,10,(OB,nb)))"
   ]
  },
  {
   "cell_type": "code",
   "execution_count": 12,
   "id": "845f9fa6",
   "metadata": {},
   "outputs": [
    {
     "name": "stderr",
     "output_type": "stream",
     "text": [
      "/var/folders/qx/w0w1832s0tv15p2l6634z33c0000gn/T/ipykernel_19187/3688832984.py:8: UserWarning: FixedFormatter should only be used together with FixedLocator\n",
      "  ax1.set_xticklabels(['','',r'$10^{-3}$',r'$10^{-2}$',r'$10^{-1}$',r'$10^{0}$',''],fontsize=16)\n",
      "/var/folders/qx/w0w1832s0tv15p2l6634z33c0000gn/T/ipykernel_19187/3688832984.py:12: UserWarning: FixedFormatter should only be used together with FixedLocator\n",
      "  ax2.set_xticklabels(['','',r'$10^{-6}$',r'$10^{-5}$',r'$10^{-4}$',r'$10^{-3}$',r'$10^{-2}$'],fontsize=16)\n"
     ]
    },
    {
     "data": {
      "image/png": "[encoded data removed]",
      "text/plain": [
       "<Figure size 360x288 with 2 Axes>"
      ]
     },
     "metadata": {
      "needs_background": "light"
     },
     "output_type": "display_data"
    }
   ],
   "source": [
    "fig = plt.figure(figsize=(5,4))\n",
    "ax1 = fig.add_subplot(111)\n",
    "ax2 = ax1.twiny()\n",
    "ax1.plot(nb_exp[::2],mu[::2], 'bx')\n",
    "ax1.set_xscale('log')\n",
    "ax1.set_ylabel(r'$\\mu\\;/\\;k_b T$', fontsize=18)\n",
    "ax1.set_xlabel(r'$N_B$', fontsize=18)\n",
    "ax1.set_xticklabels(['','',r'$10^{-3}$',r'$10^{-2}$',r'$10^{-1}$',r'$10^{0}$',''],fontsize=16)\n",
    "ax2.plot(c_exp[::2],mu[::2],'x')\n",
    "ax2.set_xlabel(r'$[1M7]$ (M)', fontsize=18)\n",
    "ax2.set_xscale('log')\n",
    "ax2.set_xticklabels(['','',r'$10^{-6}$',r'$10^{-5}$',r'$10^{-4}$',r'$10^{-3}$',r'$10^{-2}$'],fontsize=16)\n",
    "plt.show()"
   ]
  },
  {
   "cell_type": "markdown",
   "id": "c102f553",
   "metadata": {},
   "source": [
    "### 3) Compute grand-canonical averages"
   ]
  },
  {
   "cell_type": "code",
   "execution_count": 13,
   "id": "cf1b76ce",
   "metadata": {},
   "outputs": [],
   "source": [
    "def compute_gc_weights(A, # counts array of number of particles in binding region  \n",
    "                       omega_A, # partition function of the binding region  \n",
    "                       mu_values): # input values of chemical potential\n",
    "    \n",
    "    weights = np.zeros(((len(mu_values)),len(A)))\n",
    "    \n",
    "    for mm,mu in enumerate(mu_values):\n",
    "        # compute and normalize weight\n",
    "        h = np.exp(-mu*np.array(range(len(omega_A))))*omega_A\n",
    "        h /= np.sum(h)\n",
    "        # scale weight by the number of particles\n",
    "        weights[mm] = h/A\n",
    "        \n",
    "    return weights"
   ]
  },
  {
   "cell_type": "markdown",
   "id": "a1bd023d",
   "metadata": {},
   "source": [
    "#### Example"
   ]
  },
  {
   "cell_type": "code",
   "execution_count": 14,
   "id": "28df31c1",
   "metadata": {},
   "outputs": [],
   "source": [
    "# Compute weights using values computed in the previous examples\n",
    "\n",
    "weights = compute_gc_weights(A,OA,mu)"
   ]
  },
  {
   "cell_type": "code",
   "execution_count": 15,
   "id": "6f4fccdc",
   "metadata": {},
   "outputs": [
    {
     "data": {
      "text/plain": [
       "(19, 10, 10, 20, 20, 2, 2)"
      ]
     },
     "execution_count": 15,
     "metadata": {},
     "output_type": "execute_result"
    }
   ],
   "source": [
    "bindings.shape"
   ]
  },
  {
   "cell_type": "code",
   "execution_count": 16,
   "id": "cd5f194f",
   "metadata": {},
   "outputs": [],
   "source": [
    "# Marginalize bindings tensor over trajectories and observed number of particles in buffer region\n",
    "\n",
    "pp = np.sum(bindings, axis = (0,4))\n",
    "\n",
    "# Exclude values of k (number of particles in binding region) observed in no frame\n",
    "\n",
    "nonzeros = np.where(A != 0)[0]\n",
    "pp[:,:,nonzeros,:,:] /= np.sum(pp,axis=(-2,-1))[:,:,nonzeros,np.newaxis,np.newaxis]\n",
    "\n",
    "# Initialize weighted bindings\n",
    "\n",
    "pp_w = np.zeros((len(mu),10,10,2,2))"
   ]
  },
  {
   "cell_type": "code",
   "execution_count": 17,
   "id": "a438b2af",
   "metadata": {},
   "outputs": [],
   "source": [
    "# Compute weighted bindings and reactivities\n",
    "\n",
    "reactivity = []\n",
    "\n",
    "for mm,m in enumerate(mu):\n",
    "    pp_w[mm] = np.einsum('ijklm,k->ijlm',pp[:,:,nonzeros,:,:],(weights*A)[:,nonzeros][mm])\n",
    "    reactivity.append(np.sum(pp_w[mm], axis = 3)[:,0,1])\n",
    "reactivity = np.array(reactivity)"
   ]
  },
  {
   "cell_type": "code",
   "execution_count": 18,
   "id": "82fe1c0c",
   "metadata": {},
   "outputs": [
    {
     "name": "stderr",
     "output_type": "stream",
     "text": [
      "No artists with labels found to put in legend.  Note that artists whose label start with an underscore are ignored when legend() is called with no argument.\n"
     ]
    },
    {
     "data": {
      "text/plain": [
       "<matplotlib.legend.Legend at 0x7fe03c39cd00>"
      ]
     },
     "execution_count": 18,
     "metadata": {},
     "output_type": "execute_result"
    },
    {
     "data": {
      "image/png": "[encoded data removed]",
      "text/plain": [
       "<Figure size 720x432 with 1 Axes>"
      ]
     },
     "metadata": {
      "needs_background": "light"
     },
     "output_type": "display_data"
    }
   ],
   "source": [
    "from matplotlib.ticker import FormatStrFormatter\n",
    "x = np.log(c_exp)\n",
    "y = np.log(reactivity/c_exp[:, None])\n",
    "plt.figure(figsize=(10,6))\n",
    "seq = ['G71','C72','G73','G74','A75','A76','A77','C78','G79','U80']\n",
    "plt.ylabel(r'$R\\cdot[M]\\:/\\:C$', fontsize=18)\n",
    "plt.xlabel(r'$C\\:/\\:[M]$', fontsize=18)\n",
    "plt.plot(-6.85*np.ones(2),[-10,10], 'k--')\n",
    "plt.xticks([x[0],x[13],x[24],x[37],x[49]],labels=[r'$10^{-6}$',r'$10^{-5}$',r'$10^{-4}$',r'$10^{-3}$',r'$10^{-2}$'],fontsize=16)\n",
    "ax = plt.gca()\n",
    "ax.yaxis.set_major_formatter(FormatStrFormatter('%.1f'))\n",
    "plt.text(-5.5,2.3,'Experiments\\'\\n      range', fontsize=16)\n",
    "plt.ylim(-2.0,3.2)\n",
    "plt.xlim(-14,-2.5)\n",
    "for i in range(reactivity.shape[1]-2):\n",
    "    plt.plot(x,y)\n",
    "plt.legend(loc='lower right', fontsize=14)"
   ]
  }
 ],
 "metadata": {
  "kernelspec": {
   "display_name": "Python 3 (ipykernel)",
   "language": "python",
   "name": "python3"
  },
  "language_info": {
   "codemirror_mode": {
    "name": "ipython",
    "version": 3
   },
   "file_extension": ".py",
   "mimetype": "text/x-python",
   "name": "python",
   "nbconvert_exporter": "python",
   "pygments_lexer": "ipython3",
   "version": "3.9.12"
  }
 },
 "nbformat": 4,
 "nbformat_minor": 5
}
