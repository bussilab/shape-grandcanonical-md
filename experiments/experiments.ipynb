{
 "cells": [
  {
   "cell_type": "markdown",
   "metadata": {},
   "source": [
    "# Analysis of experiments\n",
    "In this notebook we present a simple routine to examine reactivities at varying concentration of SHAPE reagent.\n",
    "In particular we focus on the different behaviour between nucleotides in GNRA tetraloops and the other nucleotides."
   ]
  },
  {
   "cell_type": "code",
   "execution_count": 1,
   "metadata": {},
   "outputs": [],
   "source": [
    "import numpy as np\n",
    "import pandas as pd\n",
    "import matplotlib.pyplot as plt\n",
    "import re\n",
    "import RNA\n",
    "import subprocess as sp"
   ]
  },
  {
   "cell_type": "markdown",
   "metadata": {},
   "source": [
    "##  Extraction and fitting of in-house experimental data.\n",
    "The in-house data we used for the manuscript are available in the Github repository (file \"SHAPE_data_cooperativity_series-2.xlsx\")."
   ]
  },
  {
   "cell_type": "code",
   "execution_count": 2,
   "metadata": {},
   "outputs": [
    {
     "name": "stdout",
     "output_type": "stream",
     "text": [
      "2N2O\n",
      "GCAUGUUUUCUGUGAAAACGGUU\n",
      "....((((((...))))))....\n",
      "[]\n",
      "[]\n",
      "2GIS\n",
      "GGCUUAUCAAGAGAGGUGGAGGGACUGGCCCGAUGAAACCCGGCAACCAGAAAUGGUGCCAAUUCCUGCAGCGGAAACGUUGAAAGAUGAGCCA\n",
      "((((.(((....(.(((...(((.[.[[)))......))))(((..(((....))).)))...(]].]((.((....)).))..)))).)))).\n",
      "['GAAA', 'GAAA']\n",
      "['....', '....']\n",
      "2L1V\n",
      "GGAGAGGUUCUAGUUAUACCCUCUAUAAAAAACUAA\n",
      "..(((((...[[[......)))))........]]].\n",
      "[]\n",
      "[]\n",
      "1SCL\n",
      "GGGUGCUCAGUACGAGAGGAACCGCACCC\n",
      "((((((......(....).....))))))\n",
      "['GAGA']\n",
      "['....']\n",
      "1KXK\n",
      "GUCUACCUAUCGGGCUAAGGAGCCGUAUGCGAUGAAAGUCGCACGUACGGUUCUAUGCCCGGGGGAAAAC\n",
      ".....((...(((((....((..(((..((((......))))....)))..))...))))).))......\n",
      "['GAAA', 'GAAA']\n",
      "['....', '....']\n",
      "1CQ5\n",
      "GGCGUUUACCAGGUCAGGUCCGGAAGGAAGCAGCCAAGGCGCC\n",
      "((((.......((.....(((....))).....))....))))\n",
      "['GGAA']\n",
      "['....']\n",
      "2GV4\n",
      "GGACCUCUCGAAAGAGUGGUCC\n",
      "..(.(..(......)..).)..\n",
      "['GAAA']\n",
      "['....']\n"
     ]
    }
   ],
   "source": [
    "def intersect(x,y):\n",
    "    out = []\n",
    "    for i in range(len(x)):\n",
    "        for j in range(len(y)):\n",
    "            if x[i]==y[j]:\n",
    "                out.append(x[i])\n",
    "    return out\n",
    "\n",
    "def fun(x,a,b):\n",
    "    return a*x+b\n",
    "\n",
    "import regex\n",
    "from scipy.optimize import curve_fit\n",
    "from scipy.stats import dirichlet\n",
    "\n",
    "slope = []\n",
    "inter = []\n",
    "slope1 = []\n",
    "inter1 = []\n",
    "all_loop = []\n",
    "all_stem = []\n",
    "for name in ['2N2O', '2GIS', '2L1V', '1SCL', '1KXK', '1CQ5', '2GV4']:\n",
    "    ## Read data-sheet and build sequence\n",
    "    df = pd.read_excel('SHAPE_data_cooperativity_series-2.xlsx', sheet_name=name, engine='openpyxl', skiprows=1)\n",
    "    print(name)\n",
    "    i0 = 0\n",
    "    for s in df.seqRNA.values:\n",
    "        if s not in ['A','U','C','G']:\n",
    "            i0 += 1\n",
    "        else:\n",
    "            break\n",
    "    ntlist = ''.join([s for s in df.seqRNA.values if s in ['A','U','C','G']])\n",
    "    seq_exp = ''.join(ntlist)\n",
    "    \n",
    "    ## Download pdb and build secondary structure with baRNAba\n",
    "    sp.call([\"rm\",\"-rf\",\"{}.pdb\".format(name)])\n",
    "    sp.call([\"wget\",\"https://files.rcsb.org/download/{}.pdb\".format(name)])\n",
    "    sp.call([\"barnaba\",\"ANNOTATE\",\"--pdb\",\"{}.pdb\".format(name),\"--dotbracket\"])\n",
    "    with open(\"outfile.ANNOTATE.dotbracket.out\", \"r\") as f:\n",
    "        data = f.readlines()\n",
    "        for l in data:\n",
    "            ll=l.split()\n",
    "            if ll[1]==\"SEQ\": \n",
    "                print(ll[2])\n",
    "                seq_pdb = ll[2]\n",
    "            if ll[0]==(\"{}.pdb\".format(name)): \n",
    "                print(ll[1])\n",
    "                stru_pdb = ll[1]\n",
    "                \n",
    "    ## Align structure to sequence used in experiments\n",
    "    a = seq_pdb\n",
    "    b = seq_exp\n",
    "    search = [(i, i+len(b)) for i in range(len(a)-len(b)+1) if a[i:i+len(b)] == b]\n",
    "    stru = stru_pdb[search[0][0]:search[0][1]]\n",
    "\n",
    "    ## Find GNRA tetraloop locations\n",
    "    stru_loop = [m.start() for m in regex.finditer('\\.\\.\\.\\.', stru, overlapped=True)]\n",
    "    seq_loop = [m.start() for m in regex.finditer('GAAA|GAGA|GUAA|GUGA|GCAA|GCGA|GGAA|GGGA', seq_exp, overlapped=True)]\n",
    "    startloop = intersect(seq_loop,stru_loop)\n",
    "    conc = [0.032,0.065,0.125]\n",
    "    print([seq_exp[i:i+4] for i in startloop])\n",
    "\n",
    "    ## Extract reactivities of \n",
    "    print([stru[i:i+4] for i in startloop])\n",
    "    if startloop:\n",
    "        react = np.array([df['areaRX'],df['areaRX.1'],df['areaRX.2']])\n",
    "        react = np.array([react[i]*conc[i]/np.mean(react[i]) for i in range(3)])\n",
    "        nn = np.zeros((len(df['areaRX.2'].values)-4*len(startloop),3))\n",
    "        jj = 0\n",
    "        kk = 0\n",
    "        ## Fit reactivities of GNRA tetraloop nucleotides\n",
    "        for (ii,index) in enumerate(startloop):\n",
    "            nn[kk:kk+i0+index-jj,:] = react[:,jj:i0+index].T\n",
    "            kk = len(react[0,jj:i0+index])\n",
    "            jj = i0+index+4\n",
    "            rr = np.zeros((4,3))\n",
    "            nvalid = 0\n",
    "            for i in range(4):\n",
    "                if i0+index+i < len(ntlist):\n",
    "                    rr[i][:] = react[:,i0+index+i]\n",
    "                    if rr[i].all() > 0.0:\n",
    "                        all_loop.append(np.log(rr[i]/conc))\n",
    "                        popt,pcov = curve_fit(fun,np.log(conc),np.log(rr[i]/conc))\n",
    "                        slope.append(popt[0])\n",
    "                        inter.append(popt[1])\n",
    "                        nvalid += 1\n",
    "        ## Fit reactivities of all the other nucleotides\n",
    "        for i in range(nn.shape[0]):\n",
    "            if nn[i].all() > 0:\n",
    "                all_stem.append(nn[i])\n",
    "                popt,pcov = curve_fit(fun,np.log(conc),np.log(nn[i]/conc))\n",
    "                slope1.append(popt[0])\n",
    "                inter1.append(popt[1])"
   ]
  },
  {
   "cell_type": "markdown",
   "metadata": {},
   "source": [
    "## Plotting fit results"
   ]
  },
  {
   "cell_type": "code",
   "execution_count": 3,
   "metadata": {},
   "outputs": [
    {
     "data": {
      "image/png": "[encoded data removed]",
      "text/plain": [
       "<Figure size 576x432 with 1 Axes>"
      ]
     },
     "metadata": {
      "needs_background": "light"
     },
     "output_type": "display_data"
    }
   ],
   "source": [
    "x = np.ones(len(slope))+slope\n",
    "x1 = np.ones(len(slope1))+slope1\n",
    "plt.figure(figsize=(8,6))\n",
    "plt.hist(x1, color = 'red', bins=int((np.max(x1)-np.min(x1))/0.1),alpha=0.7, density=True, label='Other nucleotides')\n",
    "plt.hist(x, color = 'blue', bins=int((np.max(x)-np.min(x))/0.1),alpha=0.7, density=True, label='GNRA loop')\n",
    "plt.xlabel(r'Slope $\\beta$', fontsize=18)\n",
    "plt.ylabel(r'density', fontsize=18)\n",
    "plt.xticks(np.arange(-1.5,3.5,0.5),fontsize=14)\n",
    "plt.yticks(fontsize=14)\n",
    "plt.legend(fontsize=14)\n",
    "plt.savefig(\"/Users/ncalonac/Documents/GitHub/paper-shapemd/Figures/slopes_distr.png\", dpi=300)"
   ]
  }
 ],
 "metadata": {
  "kernelspec": {
   "display_name": "Python 3",
   "language": "python",
   "name": "python3"
  },
  "language_info": {
   "codemirror_mode": {
    "name": "ipython",
    "version": 3
   },
   "file_extension": ".py",
   "mimetype": "text/x-python",
   "name": "python",
   "nbconvert_exporter": "python",
   "pygments_lexer": "ipython3",
   "version": "3.9.1"
  }
 },
 "nbformat": 4,
 "nbformat_minor": 4
}
